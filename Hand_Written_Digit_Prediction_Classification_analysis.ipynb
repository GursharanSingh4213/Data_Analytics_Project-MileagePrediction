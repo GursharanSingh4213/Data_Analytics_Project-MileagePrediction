{
  "nbformat": 4,
  "nbformat_minor": 0,
  "metadata": {
    "colab": {
      "provenance": []
    },
    "kernelspec": {
      "name": "python3",
      "display_name": "Python 3"
    },
    "language_info": {
      "name": "python"
    }
  },
  "cells": [
    {
      "cell_type": "markdown",
      "source": [
        "# Hand Written Digit Prediction - Classification analysis"
      ],
      "metadata": {
        "id": "LEm1m-I783B0"
      }
    },
    {
      "cell_type": "markdown",
      "source": [
        "**The digits dataset consists of 8x8 pixel images of digits. The images attribute of the dataset stores 8x8 array of grayscale values of each image. We will use these arrays to visualize the first 4 images. The target attribute of the dataset stores the digit each image represents**"
      ],
      "metadata": {
        "id": "h0tJoDCk91ET"
      }
    },
    {
      "cell_type": "markdown",
      "source": [
        "# Import Library"
      ],
      "metadata": {
        "id": "srt8DqTd-m1R"
      }
    },
    {
      "cell_type": "code",
      "source": [
        "import pandas as pd"
      ],
      "metadata": {
        "id": "LMz8_mYL-pfv"
      },
      "execution_count": 9,
      "outputs": []
    },
    {
      "cell_type": "code",
      "source": [
        "import numpy as np"
      ],
      "metadata": {
        "id": "LmwP_--z-ul3"
      },
      "execution_count": 10,
      "outputs": []
    },
    {
      "cell_type": "code",
      "source": [
        "import matplotlib.pyplot as plt"
      ],
      "metadata": {
        "id": "p01HuOr2-y8G"
      },
      "execution_count": 11,
      "outputs": []
    },
    {
      "cell_type": "markdown",
      "source": [
        "# Import Data"
      ],
      "metadata": {
        "id": "IipKAc-h-4QG"
      }
    },
    {
      "cell_type": "code",
      "source": [
        "from sklearn.datasets import load_digits"
      ],
      "metadata": {
        "id": "Ih7AWlxs-94B"
      },
      "execution_count": 12,
      "outputs": []
    },
    {
      "cell_type": "code",
      "source": [
        "df = load_digits()"
      ],
      "metadata": {
        "id": "zUVs0PtE_Hre"
      },
      "execution_count": 13,
      "outputs": []
    },
    {
      "cell_type": "code",
      "source": [
        "_, axes = plt.subplots(nrows=1, ncols=4, figsize=(10, 3))\n",
        "for ax, images, label in zip(axes, df.images, df.target):\n",
        "    ax.set_axis_off()\n",
        "    ax.imshow(images, cmap=plt.cm.gray_r, interpolation=\"nearest\")\n",
        "    ax.set_title(\"Training: %i\" % label)"
      ],
      "metadata": {
        "colab": {
          "base_uri": "https://localhost:8080/",
          "height": 227
        },
        "id": "5epMQOGT_OWe",
        "outputId": "29ee9231-0a68-4841-b188-ffb001ddb5c3"
      },
      "execution_count": 14,
      "outputs": [
        {
          "output_type": "display_data",
          "data": {
            "text/plain": [
              "<Figure size 1000x300 with 4 Axes>"
            ],
            "image/png": "[encoded data removed]"
          },
          "metadata": {}
        }
      ]
    },
    {
      "cell_type": "markdown",
      "source": [
        "# Data Preprocessing"
      ],
      "metadata": {
        "id": "RtWewJG0CaLu"
      }
    },
    {
      "cell_type": "markdown",
      "source": [
        "**Flatten Images**"
      ],
      "metadata": {
        "id": "jzUwpG8XCdWN"
      }
    },
    {
      "cell_type": "markdown",
      "source": [
        "![8x8 image.png](data:image/png;base64,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)"
      ],
      "metadata": {
        "id": "74r5bnR7CkQM"
      }
    },
    {
      "cell_type": "markdown",
      "source": [
        "![flatten image.png](data:image/png;base64,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)"
      ],
      "metadata": {
        "id": "01kCw2eVFqdc"
      }
    },
    {
      "cell_type": "code",
      "source": [
        "df.images.shape"
      ],
      "metadata": {
        "colab": {
          "base_uri": "https://localhost:8080/"
        },
        "id": "DdAtadMtGIGz",
        "outputId": "7d02ccc0-15ab-407c-9897-a1ebd3770226"
      },
      "execution_count": 15,
      "outputs": [
        {
          "output_type": "execute_result",
          "data": {
            "text/plain": [
              "(1797, 8, 8)"
            ]
          },
          "metadata": {},
          "execution_count": 15
        }
      ]
    },
    {
      "cell_type": "code",
      "source": [
        "df.images[0]"
      ],
      "metadata": {
        "colab": {
          "base_uri": "https://localhost:8080/"
        },
        "id": "lWNX1hMkGOQC",
        "outputId": "05690249-e37f-400c-9335-13590e16610e"
      },
      "execution_count": 16,
      "outputs": [
        {
          "output_type": "execute_result",
          "data": {
            "text/plain": [
              "array([[ 0.,  0.,  5., 13.,  9.,  1.,  0.,  0.],\n",
              "       [ 0.,  0., 13., 15., 10., 15.,  5.,  0.],\n",
              "       [ 0.,  3., 15.,  2.,  0., 11.,  8.,  0.],\n",
              "       [ 0.,  4., 12.,  0.,  0.,  8.,  8.,  0.],\n",
              "       [ 0.,  5.,  8.,  0.,  0.,  9.,  8.,  0.],\n",
              "       [ 0.,  4., 11.,  0.,  1., 12.,  7.,  0.],\n",
              "       [ 0.,  2., 14.,  5., 10., 12.,  0.,  0.],\n",
              "       [ 0.,  0.,  6., 13., 10.,  0.,  0.,  0.]])"
            ]
          },
          "metadata": {},
          "execution_count": 16
        }
      ]
    },
    {
      "cell_type": "code",
      "source": [
        "df.images[0].shape"
      ],
      "metadata": {
        "colab": {
          "base_uri": "https://localhost:8080/"
        },
        "id": "G5aMn8R7GXUh",
        "outputId": "332d4751-9ce6-4df5-d209-cc940592db2f"
      },
      "execution_count": 17,
      "outputs": [
        {
          "output_type": "execute_result",
          "data": {
            "text/plain": [
              "(8, 8)"
            ]
          },
          "metadata": {},
          "execution_count": 17
        }
      ]
    },
    {
      "cell_type": "code",
      "source": [
        "len(df.images)"
      ],
      "metadata": {
        "colab": {
          "base_uri": "https://localhost:8080/"
        },
        "id": "vZlu6shlGbza",
        "outputId": "26a84a60-5ec7-451b-8e54-4aa5472655ea"
      },
      "execution_count": 18,
      "outputs": [
        {
          "output_type": "execute_result",
          "data": {
            "text/plain": [
              "1797"
            ]
          },
          "metadata": {},
          "execution_count": 18
        }
      ]
    },
    {
      "cell_type": "code",
      "source": [
        "n_samples = len(df.images)\n",
        "data = df.images.reshape(n_samples, -1)"
      ],
      "metadata": {
        "id": "ADNkZ_MIGi0C"
      },
      "execution_count": 19,
      "outputs": []
    },
    {
      "cell_type": "code",
      "source": [
        "data[0]"
      ],
      "metadata": {
        "colab": {
          "base_uri": "https://localhost:8080/"
        },
        "id": "qGMzcAeYGx6Z",
        "outputId": "4f8172b0-60dc-44b2-a0db-1e9cc4628298"
      },
      "execution_count": 20,
      "outputs": [
        {
          "output_type": "execute_result",
          "data": {
            "text/plain": [
              "array([ 0.,  0.,  5., 13.,  9.,  1.,  0.,  0.,  0.,  0., 13., 15., 10.,\n",
              "       15.,  5.,  0.,  0.,  3., 15.,  2.,  0., 11.,  8.,  0.,  0.,  4.,\n",
              "       12.,  0.,  0.,  8.,  8.,  0.,  0.,  5.,  8.,  0.,  0.,  9.,  8.,\n",
              "        0.,  0.,  4., 11.,  0.,  1., 12.,  7.,  0.,  0.,  2., 14.,  5.,\n",
              "       10., 12.,  0.,  0.,  0.,  0.,  6., 13., 10.,  0.,  0.,  0.])"
            ]
          },
          "metadata": {},
          "execution_count": 20
        }
      ]
    },
    {
      "cell_type": "code",
      "source": [
        "data[0].shape"
      ],
      "metadata": {
        "colab": {
          "base_uri": "https://localhost:8080/"
        },
        "id": "7mcUACkBG4dY",
        "outputId": "c8eb1514-6ba1-4fee-8ce4-4f35b0bac07c"
      },
      "execution_count": 21,
      "outputs": [
        {
          "output_type": "execute_result",
          "data": {
            "text/plain": [
              "(64,)"
            ]
          },
          "metadata": {},
          "execution_count": 21
        }
      ]
    },
    {
      "cell_type": "code",
      "source": [
        "data.shape"
      ],
      "metadata": {
        "colab": {
          "base_uri": "https://localhost:8080/"
        },
        "id": "6LYd5UwwG-2I",
        "outputId": "479326c7-f354-40c9-b2c8-269790e6f1ba"
      },
      "execution_count": 22,
      "outputs": [
        {
          "output_type": "execute_result",
          "data": {
            "text/plain": [
              "(1797, 64)"
            ]
          },
          "metadata": {},
          "execution_count": 22
        }
      ]
    },
    {
      "cell_type": "markdown",
      "source": [
        "# Scaling Image Data"
      ],
      "metadata": {
        "id": "XmkNwyraHFmR"
      }
    },
    {
      "cell_type": "code",
      "source": [
        "data.min()"
      ],
      "metadata": {
        "colab": {
          "base_uri": "https://localhost:8080/"
        },
        "id": "kxk9PrFyHO6A",
        "outputId": "852c8f1b-85b7-4c7d-f1e8-788f77dd72d2"
      },
      "execution_count": 23,
      "outputs": [
        {
          "output_type": "execute_result",
          "data": {
            "text/plain": [
              "0.0"
            ]
          },
          "metadata": {},
          "execution_count": 23
        }
      ]
    },
    {
      "cell_type": "code",
      "source": [
        "data.max()"
      ],
      "metadata": {
        "colab": {
          "base_uri": "https://localhost:8080/"
        },
        "id": "MQ1jWFrpHV3I",
        "outputId": "a84d1952-d177-48fa-867f-601b04eff43b"
      },
      "execution_count": 24,
      "outputs": [
        {
          "output_type": "execute_result",
          "data": {
            "text/plain": [
              "16.0"
            ]
          },
          "metadata": {},
          "execution_count": 24
        }
      ]
    },
    {
      "cell_type": "code",
      "source": [
        "data = data/16"
      ],
      "metadata": {
        "id": "yQOJvF8qHZqf"
      },
      "execution_count": 25,
      "outputs": []
    },
    {
      "cell_type": "code",
      "source": [
        "data.min()"
      ],
      "metadata": {
        "colab": {
          "base_uri": "https://localhost:8080/"
        },
        "id": "ycGygJGkHg4v",
        "outputId": "03eed97f-079a-43a5-dde2-4fb5e70b49e5"
      },
      "execution_count": 26,
      "outputs": [
        {
          "output_type": "execute_result",
          "data": {
            "text/plain": [
              "0.0"
            ]
          },
          "metadata": {},
          "execution_count": 26
        }
      ]
    },
    {
      "cell_type": "code",
      "source": [
        "data.max()"
      ],
      "metadata": {
        "colab": {
          "base_uri": "https://localhost:8080/"
        },
        "id": "fP9-cRqQHk1W",
        "outputId": "9a7284c2-8887-4ee8-d6ea-c8b74700c654"
      },
      "execution_count": 27,
      "outputs": [
        {
          "output_type": "execute_result",
          "data": {
            "text/plain": [
              "1.0"
            ]
          },
          "metadata": {},
          "execution_count": 27
        }
      ]
    },
    {
      "cell_type": "code",
      "source": [
        "data[0]"
      ],
      "metadata": {
        "colab": {
          "base_uri": "https://localhost:8080/"
        },
        "id": "edNSNxhtHo_m",
        "outputId": "e07cc8cf-b57d-4c93-82e2-10f51076384d"
      },
      "execution_count": 28,
      "outputs": [
        {
          "output_type": "execute_result",
          "data": {
            "text/plain": [
              "array([0.    , 0.    , 0.3125, 0.8125, 0.5625, 0.0625, 0.    , 0.    ,\n",
              "       0.    , 0.    , 0.8125, 0.9375, 0.625 , 0.9375, 0.3125, 0.    ,\n",
              "       0.    , 0.1875, 0.9375, 0.125 , 0.    , 0.6875, 0.5   , 0.    ,\n",
              "       0.    , 0.25  , 0.75  , 0.    , 0.    , 0.5   , 0.5   , 0.    ,\n",
              "       0.    , 0.3125, 0.5   , 0.    , 0.    , 0.5625, 0.5   , 0.    ,\n",
              "       0.    , 0.25  , 0.6875, 0.    , 0.0625, 0.75  , 0.4375, 0.    ,\n",
              "       0.    , 0.125 , 0.875 , 0.3125, 0.625 , 0.75  , 0.    , 0.    ,\n",
              "       0.    , 0.    , 0.375 , 0.8125, 0.625 , 0.    , 0.    , 0.    ])"
            ]
          },
          "metadata": {},
          "execution_count": 28
        }
      ]
    },
    {
      "cell_type": "markdown",
      "source": [
        "# Train test Split Data"
      ],
      "metadata": {
        "id": "tAEX7ngsHxDf"
      }
    },
    {
      "cell_type": "code",
      "source": [
        "from sklearn.model_selection import  train_test_split"
      ],
      "metadata": {
        "id": "FCmXSCkMH21W"
      },
      "execution_count": 29,
      "outputs": []
    },
    {
      "cell_type": "code",
      "source": [
        "X_train, X_test, y_train, y_test = train_test_split(data, df.target, test_size=0.3)"
      ],
      "metadata": {
        "id": "4UsPPC_tH_0G"
      },
      "execution_count": 30,
      "outputs": []
    },
    {
      "cell_type": "code",
      "source": [
        "X_train.shape, X_test.shape, y_train.shape, y_test.shape"
      ],
      "metadata": {
        "id": "w0b6ZeNCITB2",
        "colab": {
          "base_uri": "https://localhost:8080/"
        },
        "outputId": "92d12a92-cbae-408e-fe3c-a6e3644116ad"
      },
      "execution_count": 31,
      "outputs": [
        {
          "output_type": "execute_result",
          "data": {
            "text/plain": [
              "((1257, 64), (540, 64), (1257,), (540,))"
            ]
          },
          "metadata": {},
          "execution_count": 31
        }
      ]
    },
    {
      "cell_type": "markdown",
      "source": [
        "# Random Forest Model"
      ],
      "metadata": {
        "id": "a1x62ahjnXye"
      }
    },
    {
      "cell_type": "code",
      "source": [
        "from sklearn.ensemble import RandomForestClassifier"
      ],
      "metadata": {
        "id": "tFno6RTzndB0"
      },
      "execution_count": 32,
      "outputs": []
    },
    {
      "cell_type": "code",
      "source": [
        "rf = RandomForestClassifier()"
      ],
      "metadata": {
        "id": "gtDDWrS9nk2U"
      },
      "execution_count": 34,
      "outputs": []
    },
    {
      "cell_type": "code",
      "source": [
        "rf.fit(X_train, y_train)"
      ],
      "metadata": {
        "colab": {
          "base_uri": "https://localhost:8080/",
          "height": 75
        },
        "id": "vGlK8cZmnrMD",
        "outputId": "d17c6d9c-0abd-4f72-d78b-a6fdbc6909f3"
      },
      "execution_count": 35,
      "outputs": [
        {
          "output_type": "execute_result",
          "data": {
            "text/plain": [
              "RandomForestClassifier()"
            ],
            "text/html": [
              "<style>#sk-container-id-1 {color: black;}#sk-container-id-1 pre{padding: 0;}#sk-container-id-1 div.sk-toggleable {background-color: white;}#sk-container-id-1 label.sk-toggleable__label {cursor: pointer;display: block;width: 100%;margin-bottom: 0;padding: 0.3em;box-sizing: border-box;text-align: center;}#sk-container-id-1 label.sk-toggleable__label-arrow:before {content: \"▸\";float: left;margin-right: 0.25em;color: #696969;}#sk-container-id-1 label.sk-toggleable__label-arrow:hover:before {color: black;}#sk-container-id-1 div.sk-estimator:hover label.sk-toggleable__label-arrow:before {color: black;}#sk-container-id-1 div.sk-toggleable__content {max-height: 0;max-width: 0;overflow: hidden;text-align: left;background-color: #f0f8ff;}#sk-container-id-1 div.sk-toggleable__content pre {margin: 0.2em;color: black;border-radius: 0.25em;background-color: #f0f8ff;}#sk-container-id-1 input.sk-toggleable__control:checked~div.sk-toggleable__content {max-height: 200px;max-width: 100%;overflow: auto;}#sk-container-id-1 input.sk-toggleable__control:checked~label.sk-toggleable__label-arrow:before {content: \"▾\";}#sk-container-id-1 div.sk-estimator input.sk-toggleable__control:checked~label.sk-toggleable__label {background-color: #d4ebff;}#sk-container-id-1 div.sk-label input.sk-toggleable__control:checked~label.sk-toggleable__label {background-color: #d4ebff;}#sk-container-id-1 input.sk-hidden--visually {border: 0;clip: rect(1px 1px 1px 1px);clip: rect(1px, 1px, 1px, 1px);height: 1px;margin: -1px;overflow: hidden;padding: 0;position: absolute;width: 1px;}#sk-container-id-1 div.sk-estimator {font-family: monospace;background-color: #f0f8ff;border: 1px dotted black;border-radius: 0.25em;box-sizing: border-box;margin-bottom: 0.5em;}#sk-container-id-1 div.sk-estimator:hover {background-color: #d4ebff;}#sk-container-id-1 div.sk-parallel-item::after {content: \"\";width: 100%;border-bottom: 1px solid gray;flex-grow: 1;}#sk-container-id-1 div.sk-label:hover label.sk-toggleable__label {background-color: #d4ebff;}#sk-container-id-1 div.sk-serial::before {content: \"\";position: absolute;border-left: 1px solid gray;box-sizing: border-box;top: 0;bottom: 0;left: 50%;z-index: 0;}#sk-container-id-1 div.sk-serial {display: flex;flex-direction: column;align-items: center;background-color: white;padding-right: 0.2em;padding-left: 0.2em;position: relative;}#sk-container-id-1 div.sk-item {position: relative;z-index: 1;}#sk-container-id-1 div.sk-parallel {display: flex;align-items: stretch;justify-content: center;background-color: white;position: relative;}#sk-container-id-1 div.sk-item::before, #sk-container-id-1 div.sk-parallel-item::before {content: \"\";position: absolute;border-left: 1px solid gray;box-sizing: border-box;top: 0;bottom: 0;left: 50%;z-index: -1;}#sk-container-id-1 div.sk-parallel-item {display: flex;flex-direction: column;z-index: 1;position: relative;background-color: white;}#sk-container-id-1 div.sk-parallel-item:first-child::after {align-self: flex-end;width: 50%;}#sk-container-id-1 div.sk-parallel-item:last-child::after {align-self: flex-start;width: 50%;}#sk-container-id-1 div.sk-parallel-item:only-child::after {width: 0;}#sk-container-id-1 div.sk-dashed-wrapped {border: 1px dashed gray;margin: 0 0.4em 0.5em 0.4em;box-sizing: border-box;padding-bottom: 0.4em;background-color: white;}#sk-container-id-1 div.sk-label label {font-family: monospace;font-weight: bold;display: inline-block;line-height: 1.2em;}#sk-container-id-1 div.sk-label-container {text-align: center;}#sk-container-id-1 div.sk-container {/* jupyter's `normalize.less` sets `[hidden] { display: none; }` but bootstrap.min.css set `[hidden] { display: none !important; }` so we also need the `!important` here to be able to override the default hidden behavior on the sphinx rendered scikit-learn.org. See: https://github.com/scikit-learn/scikit-learn/issues/21755 */display: inline-block !important;position: relative;}#sk-container-id-1 div.sk-text-repr-fallback {display: none;}</style><div id=\"sk-container-id-1\" class=\"sk-top-container\"><div class=\"sk-text-repr-fallback\"><pre>RandomForestClassifier()</pre><b>In a Jupyter environment, please rerun this cell to show the HTML representation or trust the notebook. <br />On GitHub, the HTML representation is unable to render, please try loading this page with nbviewer.org.</b></div><div class=\"sk-container\" hidden><div class=\"sk-item\"><div class=\"sk-estimator sk-toggleable\"><input class=\"sk-toggleable__control sk-hidden--visually\" id=\"sk-estimator-id-1\" type=\"checkbox\" checked><label for=\"sk-estimator-id-1\" class=\"sk-toggleable__label sk-toggleable__label-arrow\">RandomForestClassifier</label><div class=\"sk-toggleable__content\"><pre>RandomForestClassifier()</pre></div></div></div></div></div>"
            ]
          },
          "metadata": {},
          "execution_count": 35
        }
      ]
    },
    {
      "cell_type": "markdown",
      "source": [
        "# Predict Test Data"
      ],
      "metadata": {
        "id": "cA2GpATWn0CT"
      }
    },
    {
      "cell_type": "code",
      "source": [
        "y_pred = rf.predict(X_test)"
      ],
      "metadata": {
        "id": "zESCgFWsn3wT"
      },
      "execution_count": 36,
      "outputs": []
    },
    {
      "cell_type": "code",
      "source": [
        "y_pred"
      ],
      "metadata": {
        "colab": {
          "base_uri": "https://localhost:8080/"
        },
        "id": "r3-Pkq2qoCqr",
        "outputId": "6d656527-26c2-4af1-d919-52cd625933e7"
      },
      "execution_count": 40,
      "outputs": [
        {
          "output_type": "execute_result",
          "data": {
            "text/plain": [
              "array([5, 0, 4, 7, 0, 0, 2, 7, 2, 3, 6, 4, 4, 4, 0, 7, 3, 1, 1, 7, 6, 9,\n",
              "       5, 1, 4, 0, 6, 7, 9, 0, 6, 3, 5, 8, 6, 3, 5, 1, 9, 3, 9, 3, 9, 0,\n",
              "       3, 5, 3, 1, 9, 2, 5, 2, 4, 7, 6, 9, 7, 9, 8, 3, 4, 7, 8, 2, 0, 1,\n",
              "       2, 3, 9, 7, 9, 8, 6, 5, 7, 8, 9, 9, 3, 6, 5, 3, 2, 0, 1, 7, 1, 2,\n",
              "       1, 1, 5, 3, 8, 0, 9, 2, 4, 5, 1, 6, 0, 7, 3, 0, 2, 1, 6, 0, 1, 3,\n",
              "       1, 2, 4, 5, 1, 6, 2, 9, 2, 8, 0, 1, 5, 1, 1, 5, 5, 1, 6, 2, 5, 6,\n",
              "       6, 7, 0, 7, 1, 3, 5, 5, 5, 4, 4, 1, 1, 7, 1, 4, 5, 5, 1, 0, 0, 1,\n",
              "       5, 4, 7, 6, 6, 9, 6, 0, 3, 1, 0, 4, 4, 0, 4, 6, 6, 1, 5, 5, 5, 2,\n",
              "       2, 9, 7, 3, 5, 8, 7, 4, 7, 5, 4, 3, 4, 6, 9, 9, 7, 0, 0, 2, 2, 5,\n",
              "       3, 3, 5, 1, 3, 4, 6, 7, 8, 5, 4, 8, 0, 7, 9, 9, 9, 5, 5, 7, 4, 4,\n",
              "       7, 0, 6, 1, 3, 3, 6, 5, 5, 6, 2, 5, 8, 6, 5, 7, 5, 6, 8, 3, 7, 2,\n",
              "       1, 5, 8, 1, 9, 6, 8, 0, 3, 8, 6, 1, 9, 2, 3, 5, 1, 3, 2, 2, 0, 0,\n",
              "       8, 7, 5, 5, 7, 1, 9, 9, 4, 6, 3, 2, 3, 8, 1, 4, 6, 1, 8, 0, 8, 5,\n",
              "       4, 4, 4, 2, 4, 7, 3, 0, 9, 3, 9, 3, 7, 6, 9, 0, 8, 2, 8, 2, 2, 8,\n",
              "       4, 2, 2, 7, 9, 1, 3, 2, 3, 1, 8, 5, 7, 2, 0, 0, 4, 5, 7, 0, 8, 2,\n",
              "       3, 6, 4, 1, 4, 0, 4, 4, 4, 0, 1, 0, 1, 7, 0, 0, 3, 7, 2, 7, 1, 6,\n",
              "       0, 6, 7, 7, 4, 1, 2, 9, 7, 0, 1, 5, 5, 8, 4, 8, 6, 2, 6, 8, 6, 9,\n",
              "       2, 9, 3, 7, 9, 2, 6, 7, 7, 4, 6, 9, 3, 9, 5, 9, 2, 3, 2, 5, 7, 3,\n",
              "       7, 4, 3, 8, 3, 8, 1, 4, 4, 7, 2, 2, 7, 9, 7, 8, 2, 2, 9, 1, 0, 6,\n",
              "       8, 4, 1, 8, 4, 6, 0, 0, 2, 5, 3, 9, 0, 8, 8, 1, 1, 6, 5, 2, 4, 2,\n",
              "       7, 8, 7, 0, 9, 2, 5, 6, 5, 8, 5, 6, 6, 5, 7, 9, 8, 4, 2, 0, 0, 3,\n",
              "       3, 5, 3, 5, 1, 6, 2, 9, 8, 4, 1, 6, 4, 2, 7, 8, 1, 9, 0, 8, 9, 7,\n",
              "       2, 6, 0, 8, 0, 1, 4, 5, 7, 5, 2, 5, 1, 9, 8, 7, 5, 4, 2, 3, 6, 0,\n",
              "       4, 9, 2, 9, 4, 5, 8, 3, 3, 4, 8, 2, 3, 0, 2, 1, 6, 9, 1, 3, 1, 8,\n",
              "       7, 0, 7, 2, 2, 1, 8, 1, 3, 1, 7, 8])"
            ]
          },
          "metadata": {},
          "execution_count": 40
        }
      ]
    },
    {
      "cell_type": "markdown",
      "source": [
        "# Model Accuracy"
      ],
      "metadata": {
        "id": "IZVPfGb0oUNL"
      }
    },
    {
      "cell_type": "code",
      "source": [
        "from sklearn.metrics import confusion_matrix, classification_report"
      ],
      "metadata": {
        "id": "4rp_os3oolEa"
      },
      "execution_count": 41,
      "outputs": []
    },
    {
      "cell_type": "code",
      "source": [
        "confusion_matrix(y_test, y_pred)"
      ],
      "metadata": {
        "colab": {
          "base_uri": "https://localhost:8080/"
        },
        "id": "6IwdhFSOoz6B",
        "outputId": "5c976c63-247d-4eac-cfba-6a315ec275d1"
      },
      "execution_count": 42,
      "outputs": [
        {
          "output_type": "execute_result",
          "data": {
            "text/plain": [
              "array([[52,  0,  0,  0,  2,  0,  0,  0,  0,  0],\n",
              "       [ 0, 56,  0,  0,  0,  0,  2,  0,  0,  0],\n",
              "       [ 1,  0, 59,  0,  0,  0,  0,  0,  1,  0],\n",
              "       [ 0,  0,  0, 52,  0,  0,  0,  0,  1,  0],\n",
              "       [ 0,  0,  0,  0, 51,  0,  0,  0,  0,  0],\n",
              "       [ 0,  0,  0,  0,  0, 59,  0,  0,  0,  0],\n",
              "       [ 0,  0,  0,  0,  0,  1, 48,  0,  0,  0],\n",
              "       [ 0,  0,  0,  0,  0,  0,  0, 57,  1,  0],\n",
              "       [ 0,  4,  0,  0,  0,  0,  0,  0, 42,  0],\n",
              "       [ 0,  0,  0,  1,  0,  0,  0,  0,  2, 48]])"
            ]
          },
          "metadata": {},
          "execution_count": 42
        }
      ]
    },
    {
      "cell_type": "code",
      "source": [
        "print(classification_report(y_test, y_pred))"
      ],
      "metadata": {
        "colab": {
          "base_uri": "https://localhost:8080/"
        },
        "id": "mbDWD-Oko8Dx",
        "outputId": "b7365cb1-6c94-4796-f20f-c1b7e2e7017f"
      },
      "execution_count": 43,
      "outputs": [
        {
          "output_type": "stream",
          "name": "stdout",
          "text": [
            "              precision    recall  f1-score   support\n",
            "\n",
            "           0       0.98      0.96      0.97        54\n",
            "           1       0.93      0.97      0.95        58\n",
            "           2       1.00      0.97      0.98        61\n",
            "           3       0.98      0.98      0.98        53\n",
            "           4       0.96      1.00      0.98        51\n",
            "           5       0.98      1.00      0.99        59\n",
            "           6       0.96      0.98      0.97        49\n",
            "           7       1.00      0.98      0.99        58\n",
            "           8       0.89      0.91      0.90        46\n",
            "           9       1.00      0.94      0.97        51\n",
            "\n",
            "    accuracy                           0.97       540\n",
            "   macro avg       0.97      0.97      0.97       540\n",
            "weighted avg       0.97      0.97      0.97       540\n",
            "\n"
          ]
        }
      ]
    }
  ]
}